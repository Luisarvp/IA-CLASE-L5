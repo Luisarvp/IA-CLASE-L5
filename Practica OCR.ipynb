{
 "cells": [
  {
   "cell_type": "markdown",
   "metadata": {},
   "source": [
    "# Vision Artificial:Character recognition (OCR)\n",
    "\n",
    "## Alumno: Luis Armando Villalobos Peralta\n",
    "\n",
    "Hacer que la computadora tenga ojos no es tarea facil. Si puedes tomar una camara web, pero eso no significa que la computadora puede analizar lo que esta viendo.\n",
    "\n",
    "Los acontecimientos recientes hicieron avanzar el campo. Con la tecnologia Deep Learning ahora pueden hacer observaciones basicas de diferentes objetos en muchas pocisiones difernetes.\n",
    "\n",
    "Entonces, si no sabes nada sobre el aprendizaje profundo o las redes neuronales, ?como comienzas en el campo de la vision por computadora?\n",
    "\n",
    "Por supuesto, no puede comenzar con los conceptos mas complicados y trabajar hacia atras. Tienes que empezar lo basico.\n",
    "\n",
    "En el nivel mas basico, puede haer reconomiento de patrones. Para reducir la complejidad, recomiento comenzar aprendiendo Python en lugar de C++\n",
    "\n",
    "El reconocimiento de caracreres (OCR) es una tarea muy basica de vision artificial\n",
    "\n",
    "### OCR en Python\n",
    "\n",
    "El siguiente codigo traducira el tecto de la imagen a texto en la terminal"
   ]
  },
  {
   "cell_type": "code",
   "execution_count": 1,
   "metadata": {},
   "outputs": [
    {
     "name": "stdout",
     "output_type": "stream",
     "text": [
      "10 DOWNING STREET\n",
      "LONDON SWI1A 2AA.\n",
      "\n",
      "THE PRIME MINISTER 1 May 2019\n",
      "\n",
      "\"Den Conde\n",
      "\n",
      "Thank you for your time this evening. We discussed the investigation into the\n",
      "unauthorised disclosure of information from the National Security Council\n",
      "meeting on 23 April.\n"
     ]
    }
   ],
   "source": [
    "from PIL import Image\n",
    "import pytesseract\n",
    "\n",
    "def ocr_core(filename):\n",
    "    text=pytesseract.image_to_string(Image.open(filename))\n",
    "    return text\n",
    "data=ocr_core('image2.jpg')\n",
    "print(data)"
   ]
  },
  {
   "cell_type": "code",
   "execution_count": null,
   "metadata": {},
   "outputs": [],
   "source": []
  }
 ],
 "metadata": {
  "kernelspec": {
   "display_name": "Python 3",
   "language": "python",
   "name": "python3"
  },
  "language_info": {
   "codemirror_mode": {
    "name": "ipython",
    "version": 3
   },
   "file_extension": ".py",
   "mimetype": "text/x-python",
   "name": "python",
   "nbconvert_exporter": "python",
   "pygments_lexer": "ipython3",
   "version": "3.7.7"
  }
 },
 "nbformat": 4,
 "nbformat_minor": 2
}
